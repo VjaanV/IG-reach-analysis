{
 "cells": [
  {
   "cell_type": "markdown",
   "id": "d5004f70-be81-4a80-911f-4090c0ee3182",
   "metadata": {},
   "source": [
    "# Introduction\n",
    "\n",
    "- Instagram is one of the most popular social media applications today. People using Instagram professionally are using it for promoting their business, building a portfolio, blogging, and creating various kinds of content. As Instagram is a popular application used by millions of people with different niches, Instagram keeps changing to make itself better for content creators and users. But as this keeps changing, it affects the reach of our posts which affects us in the long run. So if content creator wants to do well on Instagram in the long run, they have to look at the data of their Instagram reach. That is where the use of Data Science in social media comes in.\n",
    "\n",
    "- I have been researching Instagram reach for a long time. Every time I post on my Instagram account, I collect data about how successful the post is after a week. This helps to understand how the Instagram algorithm works. If you want to analyze the reach of your Instagram account, you have to collect your data manually because there are some APIs, but they don't work well. Therefore, it is better to collect your Instagram data manually.\n",
    "\n",
    "- If you want to learn how to analyze Instagram reach using Python, you can use the data I collected from my Instagram account. You can download the dataset I used to analyze Instagram reach here."
   ]
  },
  {
   "cell_type": "markdown",
   "id": "cf744472-f49b-4555-b808-440d6d664e84",
   "metadata": {},
   "source": [
    "# Import Libraries"
   ]
  },
  {
   "cell_type": "code",
   "execution_count": null,
   "id": "a978719c-cba0-433e-99cb-8b24eaa8a73d",
   "metadata": {},
   "outputs": [],
   "source": [
    "import pandas as pd\n",
    "import numpy as np\n",
    "import matplotlib.pyplot as plt\n",
    "import seaborn as sns\n",
    "import plotly.express as px\n",
    "from wordcloud import WordCloud, STOPWORDS, ImageColorGenerator\n",
    "from sklearn.model_selection import train_test_split\n",
    "from sklearn.linear_model import PassiveAggressiveRegressor"
   ]
  },
  {
   "cell_type": "markdown",
   "id": "b879ff79-fda2-4e5e-b7b7-b3ff2fedc616",
   "metadata": {},
   "source": [
    "# Read Data"
   ]
  },
  {
   "cell_type": "code",
   "execution_count": null,
   "id": "c38f3145-c018-4240-890d-36a581dc0b5d",
   "metadata": {},
   "outputs": [],
   "source": [
    "data = pd.read_csv(\"/kaggle/input/instagram-data/Instagram data.csv\", encoding = 'latin1')"
   ]
  },
  {
   "cell_type": "code",
   "execution_count": null,
   "id": "42aa63fc-fcb3-4bcb-af40-3ba91199ac31",
   "metadata": {},
   "outputs": [],
   "source": [
    "print(data.head())"
   ]
  },
  {
   "cell_type": "markdown",
   "id": "b3023077-44d6-4d58-8964-73c9fb5d02e3",
   "metadata": {},
   "source": [
    "# Whether the dataset contains null values or not"
   ]
  },
  {
   "cell_type": "code",
   "execution_count": null,
   "id": "11dcd9e6-6728-4c08-ba3a-720501d53827",
   "metadata": {},
   "outputs": [],
   "source": [
    "data.isnull().sum()\n",
    "\n",
    "data = data.dropna()"
   ]
  },
  {
   "cell_type": "markdown",
   "id": "31574d30-8ca3-49d9-b585-6f5b28114df1",
   "metadata": {},
   "source": [
    "# Look at the insights of the columns to understand the data type of all the columns:"
   ]
  },
  {
   "cell_type": "code",
   "execution_count": null,
   "id": "c6b0ff12-8481-4fc0-864d-adf1a77ce1df",
   "metadata": {},
   "outputs": [],
   "source": [
    "data.info()"
   ]
  },
  {
   "cell_type": "markdown",
   "id": "c3366a86-29e1-4083-b9b4-49e543cec218",
   "metadata": {},
   "source": [
    "# Analyzing Instagram Reach"
   ]
  },
  {
   "cell_type": "markdown",
   "id": "fb399b82-f860-4545-92c3-bcdea4951b24",
   "metadata": {},
   "source": [
    "- Let’s start with analyzing the reach of my Instagram posts.\n",
    "- I will first have a look at the distribution of impressions I have received from home."
   ]
  },
  {
   "cell_type": "code",
   "execution_count": null,
   "id": "b320442b-53c7-4ba5-b847-833ee844bda9",
   "metadata": {},
   "outputs": [],
   "source": [
    "plt.figure(figsize=(10, 8))\n",
    "plt.style.use('fivethirtyeight')\n",
    "plt.title(\"Distribution of Impressions From Home\")\n",
    "#sns.distplot(data['From Home'])\n",
    "sns.histplot(data['From Home'])\n",
    "plt.show()"
   ]
  },
  {
   "cell_type": "markdown",
   "id": "ab15f024-7608-4abf-8ca2-285d277fd84f",
   "metadata": {},
   "source": [
    "# Impression\n",
    "- The impressions I get from the home section on Instagram shows how much my posts reach my followers.\n",
    "\n",
    "- Looking at the impressions from home, I can say it’s hard to reach all my followers daily.\n",
    "\n",
    "- Now let’s have a look at the distribution of the impressions I received from hashtags:"
   ]
  },
  {
   "cell_type": "code",
   "execution_count": null,
   "id": "bb7e738c-77eb-4425-9324-136bf988899d",
   "metadata": {},
   "outputs": [],
   "source": [
    "plt.figure(figsize=(10, 8))\n",
    "plt.title(\"Distribution of Impressions From Hashtags\")\n",
    "#sns.distplot(data['From Hashtags'])\n",
    "sns.histplot(data['From Hashtags'])\n",
    "plt.show()"
   ]
  },
  {
   "cell_type": "markdown",
   "id": "37224944-cce3-4a7f-b2de-6c4d87f7629e",
   "metadata": {},
   "source": [
    "# Hashtag\n",
    "- Hashtags are tools we use to categorize our posts on Instagram so that we can reach more people based on the kind of content we are creating.\n",
    "\n",
    "- Looking at hashtag impressions shows that not all posts can be reached using hashtags, but many new users can be reached from hashtags.\n",
    "\n",
    "- Now let’s have a look at the distribution of impressions I have received from the explore section of Instagram:"
   ]
  },
  {
   "cell_type": "code",
   "execution_count": null,
   "id": "1f925a1c-e543-441c-85e2-d489876a7bf5",
   "metadata": {},
   "outputs": [],
   "source": [
    "plt.figure(figsize=(10, 8))\n",
    "plt.title(\"Distribution of Impressions From Explore\")\n",
    "#sns.distplot(data['From Explore'])\n",
    "sns.histplot(data['From Explore'])\n",
    "plt.show()"
   ]
  },
  {
   "cell_type": "markdown",
   "id": "4dcaed22-1556-4198-adbf-b93c81f20ce8",
   "metadata": {},
   "source": [
    "- The explore section of Instagram is the recommendation system of Instagram. It recommends posts to users based on their preferences and interests.\n",
    "\n",
    "- By looking at the impressions I have received from the explore section, I can say that Instagram does not recommend our posts much to the users. Some posts have received a good reach from the explore section, but it’s still very low compared to the reach I receive from hashtags.\n",
    "\n",
    "- Let’s have a look at the percentage of impressions I get from various sources on Instagram:"
   ]
  },
  {
   "cell_type": "code",
   "execution_count": null,
   "id": "2d11fdf2-b723-406c-8af1-012b03d14eec",
   "metadata": {},
   "outputs": [],
   "source": [
    "home = data[\"From Home\"].sum()\n",
    "hashtags = data[\"From Hashtags\"].sum()\n",
    "explore = data[\"From Explore\"].sum()\n",
    "other = data[\"From Other\"].sum()\n",
    "\n",
    "labels = ['From Home','From Hashtags','From Explore','Other']\n",
    "values = [home, hashtags, explore, other]\n",
    "\n",
    "fig = px.pie(data, values=values, names=labels, \n",
    "             title='Impressions on Instagram Posts From Various Sources', hole=0.5)\n",
    "fig.show()"
   ]
  },
  {
   "cell_type": "markdown",
   "id": "f186eba6-3c7d-4afa-ab82-d67a839d0b01",
   "metadata": {},
   "source": [
    "\n",
    "#### So the above donut plot shows that almost 45 percent of the reach is from my followers, 33.6 percent is from hashtags, 19.2 percent is from the explore section, and 3.05 percent is from other sources.\n",
    "\n",
    "# Analyzing Content\n",
    "\n",
    "- Let’s analyze the content of my Instagram posts. The dataset has two columns, namely caption, and hashtags, which will help us understand the kind of content I post on Instagram.\n",
    "\n",
    "- Let’s create a wordcloud of the caption column to look at the most used words in the caption of my Instagram posts:"
   ]
  },
  {
   "cell_type": "code",
   "execution_count": null,
   "id": "1e6505d1-3b07-479b-9bc4-c287b8fb28c1",
   "metadata": {},
   "outputs": [],
   "source": [
    "text = \" \".join(i for i in data.Caption)\n",
    "stopwords = set(STOPWORDS)\n",
    "wordcloud = WordCloud(stopwords=stopwords, background_color=\"white\").generate(text)\n",
    "plt.style.use('classic')\n",
    "plt.figure( figsize=(12,10))\n",
    "plt.imshow(wordcloud, interpolation='bilinear')\n",
    "plt.axis(\"off\")\n",
    "plt.show()"
   ]
  },
  {
   "cell_type": "markdown",
   "id": "4f2c08eb-9bb2-43fd-bab6-086172ca1119",
   "metadata": {},
   "source": [
    "#### Let’s create a wordcloud of the hashtags column to look at the most used hashtags in my Instagram posts:"
   ]
  },
  {
   "cell_type": "code",
   "execution_count": null,
   "id": "17238a35-c7d2-4c51-8dac-399100ede4d6",
   "metadata": {},
   "outputs": [],
   "source": [
    "text = \" \".join(i for i in data.Hashtags)\n",
    "stopwords = set(STOPWORDS)\n",
    "wordcloud = WordCloud(stopwords=stopwords, background_color=\"white\").generate(text)\n",
    "plt.figure( figsize=(12,10))\n",
    "plt.imshow(wordcloud, interpolation='bilinear')\n",
    "plt.axis(\"off\")\n",
    "plt.show()"
   ]
  },
  {
   "cell_type": "markdown",
   "id": "b65b729f-414e-42df-a8f1-1eb91acf5973",
   "metadata": {},
   "source": [
    "# Analyzing Relationships\n",
    "\n",
    "- Let’s analyze relationships to find the most important factors of our Instagram reach. It will also help us in understanding how the Instagram algorithm works.\n",
    "\n",
    "- Let’s have a look at the relationship between the number of likes and the number of impressions on my Instagram posts:"
   ]
  },
  {
   "cell_type": "code",
   "execution_count": null,
   "id": "12fc2eb5-03cf-48b6-a5b3-b934d9b95d5c",
   "metadata": {},
   "outputs": [],
   "source": [
    "figure = px.scatter(data_frame = data, x=\"Impressions\",\n",
    "                    y=\"Likes\", size=\"Likes\", trendline=\"ols\", \n",
    "                    title = \"Relationship Between Likes and Impressions\")\n",
    "figure.show()"
   ]
  },
  {
   "cell_type": "markdown",
   "id": "f1ce6caf-b59a-46e5-99f7-d4c1570620ea",
   "metadata": {},
   "source": [
    "- There is a linear relationship between the number of likes and the reach I got on Instagram.\n",
    "\n",
    "- Let’s see the relationship between the number of comments and the number of impressions on my Instagram posts:"
   ]
  },
  {
   "cell_type": "code",
   "execution_count": null,
   "id": "f1fc5ec8-1e37-4054-b140-0f856ae72683",
   "metadata": {},
   "outputs": [],
   "source": [
    "figure = px.scatter(data_frame = data, x=\"Impressions\",\n",
    "                    y=\"Comments\", size=\"Comments\", trendline=\"ols\", \n",
    "                    title = \"Relationship Between Comments and Total Impressions\")\n",
    "figure.show()"
   ]
  },
  {
   "cell_type": "markdown",
   "id": "70f5f2fa-17af-47da-928c-9253ac674147",
   "metadata": {},
   "source": [
    "- It looks like the number of comments we get on a post doesn’t affect its reach.\n",
    "\n",
    "- Let’s have a look at the relationship between the number of shares and the number of impressions:"
   ]
  },
  {
   "cell_type": "code",
   "execution_count": null,
   "id": "9662e1c1-ea4f-4936-a956-e291010cd714",
   "metadata": {},
   "outputs": [],
   "source": [
    "figure = px.scatter(data_frame = data, x=\"Impressions\",\n",
    "                    y=\"Shares\", size=\"Shares\", trendline=\"ols\", \n",
    "                    title = \"Relationship Between Shares and Total Impressions\")\n",
    "figure.show()"
   ]
  },
  {
   "cell_type": "markdown",
   "id": "47f8b3ab-c603-4e6c-aa96-52db2ed353e5",
   "metadata": {},
   "source": [
    "- There is a linear relationship between the number of times my post is saved and the reach of my Instagram post.\n",
    "\n",
    "- Let’s have a look at the correlation of all the columns with the Impressions column:"
   ]
  },
  {
   "cell_type": "code",
   "execution_count": null,
   "id": "ea40e6ec-7f7e-4f5f-9257-25112b9687db",
   "metadata": {},
   "outputs": [],
   "source": [
    "correlation = data.corr()\n",
    "print(correlation[\"Impressions\"].sort_values(ascending=False))"
   ]
  },
  {
   "cell_type": "markdown",
   "id": "16c6d576-1abf-4ac3-9819-5a882178b32c",
   "metadata": {},
   "source": [
    "##### So we can say that more likes and saves will help you get more reach on Instagram.\n",
    "\n",
    "##### The higher number of shares will also help you get more reach, but a low number of shares will not affect your reach either."
   ]
  },
  {
   "cell_type": "markdown",
   "id": "2303a270-a970-431f-8b80-d6ef077cc290",
   "metadata": {},
   "source": [
    "# Analyzing Conversion Rate\n",
    "\n",
    "- In Instagram, conversation rate means how many followers you are getting from the number of profile visits from a post.\n",
    "\n",
    "- The formula that you can use to calculate conversion rate is (Follows/Profile Visits) * 100. Now let’s have a look at the conversation rate of my Instagram account:"
   ]
  },
  {
   "cell_type": "code",
   "execution_count": null,
   "id": "8ae0848f-fdba-48f8-9574-c4a66570383e",
   "metadata": {},
   "outputs": [],
   "source": [
    "conversion_rate = (data[\"Follows\"].sum() / data[\"Profile Visits\"].sum()) * 100\n",
    "print(conversion_rate)"
   ]
  },
  {
   "cell_type": "markdown",
   "id": "fd4c548b-855c-4369-b09b-4d473b7876b8",
   "metadata": {},
   "source": [
    "- So the conversation rate of my Instagram account is 31% which sounds like a very good conversation rate.\n",
    "\n",
    "Let’s have a look at the relationship between the total profile visits and the number of followers gained from all profile visits:"
   ]
  },
  {
   "cell_type": "code",
   "execution_count": null,
   "id": "0b6393ec-aaa9-4f29-8d36-cf6272f295e8",
   "metadata": {},
   "outputs": [],
   "source": [
    "figure = px.scatter(data_frame = data, x=\"Profile Visits\",\n",
    "                    y=\"Follows\", size=\"Follows\", trendline=\"ols\", \n",
    "                    title = \"Relationship Between Profile Visits and Followers Gained\")\n",
    "figure.show()"
   ]
  },
  {
   "cell_type": "code",
   "execution_count": null,
   "id": "69227a67-9046-4dc9-90c7-97c6f6592222",
   "metadata": {},
   "outputs": [],
   "source": [
    "The relationship between profile visits and followers gained is also linear."
   ]
  }
 ],
 "metadata": {
  "kernelspec": {
   "display_name": "Python 3 (ipykernel)",
   "language": "python",
   "name": "python3"
  },
  "language_info": {
   "codemirror_mode": {
    "name": "ipython",
    "version": 3
   },
   "file_extension": ".py",
   "mimetype": "text/x-python",
   "name": "python",
   "nbconvert_exporter": "python",
   "pygments_lexer": "ipython3",
   "version": "3.9.2"
  }
 },
 "nbformat": 4,
 "nbformat_minor": 5
}
